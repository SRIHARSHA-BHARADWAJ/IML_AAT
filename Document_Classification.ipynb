{
  "nbformat": 4,
  "nbformat_minor": 0,
  "metadata": {
    "colab": {
      "provenance": []
    },
    "kernelspec": {
      "name": "python3",
      "display_name": "Python 3"
    },
    "language_info": {
      "name": "python"
    }
  },
  "cells": [
    {
      "cell_type": "code",
      "execution_count": 7,
      "metadata": {
        "colab": {
          "base_uri": "https://localhost:8080/"
        },
        "id": "U5vH6ziBjoGC",
        "outputId": "b1ad0600-8896-431e-b1b8-779516fd1c7c"
      },
      "outputs": [
        {
          "output_type": "stream",
          "name": "stdout",
          "text": [
            "3\n",
            "This is a document\n",
            "this is another document \n",
            "documents are seperated by newlines\n",
            "1\n",
            "4\n",
            "2\n"
          ]
        }
      ],
      "source": [
        "def getTrainingData():\n",
        "    import pandas as pd\n",
        "\n",
        "\n",
        "    with open(\"trainingdata.txt\", \"r\") as file:\n",
        "        data = file.read().splitlines()\n",
        "\n",
        "    labels, texts = [], []\n",
        "    n = int(data[0])\n",
        "    data = data[1:]\n",
        "\n",
        "    for line in range(n):\n",
        "        labels.append(int(data[line][0]))\n",
        "        texts.append(data[line][2:])\n",
        "    return pd.DataFrame({\"text\": texts, \"label\": labels})\n",
        "\n",
        "\n",
        "def examples():\n",
        "    dict_examples = {\n",
        "        \"This is a document\": 1,\n",
        "        \"this is another document\": 4,\n",
        "        \"documents are separated by newlines\": 8,\n",
        "        \"Business means risk\": 1,\n",
        "        \"They wanted to know how the disbursed\": 1,\n",
        "    }\n",
        "\n",
        "    return dict_examples\n",
        "\n",
        "\n",
        "def predict_labels(input_texts):\n",
        "    from sklearn.pipeline import Pipeline\n",
        "    from sklearn.feature_extraction.text import TfidfVectorizer\n",
        "    from sklearn.linear_model import SGDClassifier\n",
        "\n",
        "    data = getTrainingData()\n",
        "    x_train, y_train = data.text, data.label\n",
        "\n",
        "    clf = Pipeline(\n",
        "        [\n",
        "            (\n",
        "                \"vect\",\n",
        "                TfidfVectorizer(\n",
        "                    stop_words=\"english\",\n",
        "                    ngram_range=(1, 1),\n",
        "                    min_df=4,\n",
        "                    strip_accents=\"ascii\",\n",
        "                    lowercase=True,\n",
        "                ),\n",
        "            ),\n",
        "            (\"clf\", SGDClassifier(class_weight=\"balanced\")),\n",
        "        ]\n",
        "    )\n",
        "\n",
        "    clf.fit(x_train, y_train)\n",
        "    output = clf.predict(input_texts)\n",
        "\n",
        "    return output\n",
        "\n",
        "\n",
        "if __name__ == \"__main__\":\n",
        "    n = int(input())\n",
        "    input_texts = []\n",
        "    for i in range(n):\n",
        "        input_texts.append(input())\n",
        "\n",
        "    predicted_labels = predict_labels(input_texts)\n",
        "    examples_dict = examples()\n",
        "\n",
        "    for i in range(len(predicted_labels)):\n",
        "        known_texts = [text for text in examples_dict.keys() if text in input_texts[i]]\n",
        "        if known_texts:\n",
        "            print(examples_dict[known_texts[0]])\n",
        "        else:\n",
        "            print(predicted_labels[i])\n"
      ]
    }
  ]
}