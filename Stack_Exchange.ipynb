{
  "nbformat": 4,
  "nbformat_minor": 0,
  "metadata": {
    "colab": {
      "provenance": []
    },
    "kernelspec": {
      "name": "python3",
      "display_name": "Python 3"
    },
    "language_info": {
      "name": "python"
    }
  },
  "cells": [
    {
      "cell_type": "code",
      "execution_count": null,
      "metadata": {
        "id": "dj4Q1qJDqa_m"
      },
      "outputs": [],
      "source": [
        "import json\n",
        "import re\n",
        "import numpy as np\n",
        "from sklearn.pipeline import Pipeline\n",
        "from sklearn.feature_extraction.text import CountVectorizer, TfidfTransformer\n",
        "from sklearn.svm import LinearSVC\n",
        "\n",
        "count_samples = 0\n",
        "topics = []\n",
        "excerpts = []\n",
        "\n",
        "def extract_words(text):\n",
        "    return re.findall(r'(?:[a-zA-Z]+[a-zA-Z\\'\\-]?[a-zA-Z]|[a-zA-Z]+)', text)\n",
        "\n",
        "with open('td2.json', 'r') as file:\n",
        "    for line in file:\n",
        "        count_samples += 1\n",
        "        if count_samples == 1:\n",
        "            continue\n",
        "        try:\n",
        "            post = json.loads(line)\n",
        "            topics.append(post[\"topic\"])\n",
        "            concatenated_text = post[\"question\"] + \"\\r\\n\" + post[\"excerpt\"]\n",
        "            cleaned_sentence = \"\".join(word for word in extract_words(concatenated_text))\n",
        "            excerpts.append(concatenated_text)\n",
        "        except json.JSONDecodeError:\n",
        "            print(f\"Skipping line {count_samples} due to JSONDecodeError\")\n",
        "\n",
        "x_training = np.array(excerpts)\n",
        "y_training = topics\n",
        "\n",
        "print(f\"Number of training samples: {len(x_training)}\")\n",
        "\n",
        "text_classifier = Pipeline([\n",
        "    ('vect', CountVectorizer()),\n",
        "    ('tfidf', TfidfTransformer()),\n",
        "    ('clf', LinearSVC())\n",
        "])\n",
        "\n",
        "try:\n",
        "    text_classifier.fit(x_training, y_training)\n",
        "except ValueError as e:\n",
        "    print(f\"ValueError during fitting: {e}\")\n",
        "\n",
        "try:\n",
        "    num_test_cases = int(input(\"Enter number of test cases: \"))\n",
        "except ValueError:\n",
        "    print(\"Invalid input. Expected an integer.\")\n",
        "\n",
        "test_data = []\n",
        "for i in range(num_test_cases):\n",
        "    try:\n",
        "        json_data = json.loads(input(f\"Enter JSON data for test case {i + 1}: \"))\n",
        "        test_data.append(json_data['question'] + \"\\r\\n\" + json_data['excerpt'])\n",
        "    except json.JSONDecodeError as e:\n",
        "        print(f\"Failed to parse JSON data for test case {i + 1}: {e}\")\n",
        "\n",
        "if test_data:\n",
        "    predicted_labels = text_classifier.predict(test_data)\n",
        "    for label in predicted_labels:\n",
        "        print(label)\n"
      ]
    }
  ]
}