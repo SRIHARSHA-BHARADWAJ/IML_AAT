{
  "nbformat": 4,
  "nbformat_minor": 0,
  "metadata": {
    "colab": {
      "provenance": []
    },
    "kernelspec": {
      "name": "python3",
      "display_name": "Python 3"
    },
    "language_info": {
      "name": "python"
    }
  },
  "cells": [
    {
      "cell_type": "code",
      "execution_count": 3,
      "metadata": {
        "colab": {
          "base_uri": "https://localhost:8080/"
        },
        "id": "vVtGMrXCoHNv",
        "outputId": "45574644-9f86-4801-b79a-ea578d193a00"
      },
      "outputs": [
        {
          "output_type": "stream",
          "name": "stdout",
          "text": [
            "8.0\n"
          ]
        }
      ],
      "source": [
        "data_input = 5.0\n",
        "\n",
        "training_data = {}\n",
        "data_num = 100\n",
        "\n",
        "def clean_input(string):\n",
        "    new_points = string.split(\",\")\n",
        "    return [float(x) for x in new_points]\n",
        "\n",
        "with open(\"td1.txt\", \"r\") as training:\n",
        "    for i in range(0, data_num):\n",
        "        instance = clean_input(training.readline())\n",
        "        training_data[instance[0]] = instance[1]\n",
        "\n",
        "max_battery_life = max(training_data.values())\n",
        "max_cases = []\n",
        "linear_cases = {}\n",
        "\n",
        "for key in training_data:\n",
        "    if training_data[key] < max_battery_life:\n",
        "        linear_cases[key] = training_data[key]\n",
        "    else:\n",
        "        max_cases.append(key)\n",
        "\n",
        "full_battery_charge = min(max_cases)\n",
        "\n",
        "def sum_xy(dict):\n",
        "    total = 0\n",
        "    for x in dict:\n",
        "        total += (x * dict[x])\n",
        "    return float(total)\n",
        "\n",
        "def sum_x(dict):\n",
        "    total = 0\n",
        "    for x in dict:\n",
        "        total += x\n",
        "    return float(total)\n",
        "\n",
        "def sum_y(dict):\n",
        "    total = 0\n",
        "    for x in dict:\n",
        "        total += dict[x]\n",
        "    return float(total)\n",
        "\n",
        "def sum_x_squared(dict):\n",
        "    total = 0\n",
        "    for x in dict:\n",
        "        total += x**2\n",
        "    return float(total)\n",
        "\n",
        "def linear_regression(dict):\n",
        "    n = len(dict)\n",
        "    xy_sum = sum_xy(dict)\n",
        "    x_sum = sum_x(dict)\n",
        "    y_sum = sum_y(dict)\n",
        "    x_squared_sum = sum_x_squared(dict)\n",
        "\n",
        "    m = ((n * xy_sum) - (x_sum * y_sum)) / ((n * x_squared_sum) - (x_sum**2))\n",
        "    b = ((x_squared_sum * y_sum) - (x_sum * xy_sum)) / ((n * x_squared_sum) - (x_sum**2))\n",
        "\n",
        "    return [m, b]\n",
        "\n",
        "linear_vars = linear_regression(linear_cases)\n",
        "\n",
        "def estimated_battery_life(charge_time):\n",
        "    if charge_time >= full_battery_charge:\n",
        "        battery_life = max_battery_life\n",
        "    else:\n",
        "        m = linear_vars[0]\n",
        "        b = linear_vars[1]\n",
        "        battery_life = (m * charge_time) + b\n",
        "    return battery_life\n",
        "\n",
        "print(estimated_battery_life(data_input))\n"
      ]
    }
  ]
}